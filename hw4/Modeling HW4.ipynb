{
 "cells": [
  {
   "cell_type": "markdown",
   "metadata": {},
   "source": [
    "# Plotting the Traveling Wave Solution\n",
    "First, pick a fixed t value and plot solution vs depth (u vs z). The following is the initialization of values and the function u(z,t). the function u(z,t) checks whether z or t is fixed and returns an array of values. "
   ]
  },
  {
   "cell_type": "code",
   "execution_count": 21,
   "metadata": {},
   "outputs": [],
   "source": [
    "from matplotlib import pyplot as plt\n",
    "import numpy as np\n",
    "%matplotlib inline\n",
    "\n",
    "#initial temperature\n",
    "u0 = 5\n",
    "\n",
    "#amplitude of temp variation\n",
    "uDelta = 2\n",
    "\n",
    "#diffusivity of limestone\n",
    "D = 5.6 * (10**(-7))\n",
    "\n",
    "#annual freq\n",
    "w = (2*np.pi)/365\n",
    "\n",
    "#attenuation depth\n",
    "z0 = np.sqrt((2*D)/w)\n",
    "\n",
    "def u(z, t):\n",
    "    results = []\n",
    "    #check if we are passing an array of values\n",
    "    if isinstance(z, np.ndarray):\n",
    "        for val in z:\n",
    "            first = uDelta*np.exp(-val/z0)\n",
    "            second = np.cos((w*t) - (val/z0))\n",
    "            results.append(u0 - (first*second))\n",
    "        return results\n",
    "    #if z is a fixed value, then iterate over array of t values\n",
    "    else:\n",
    "        for val in t:\n",
    "            first = uDelta*np.exp(-z/z0)\n",
    "            second = np.cos((w*val) - (z/z0))\n",
    "            results.append(u0 - (first*second))\n",
    "        return results"
   ]
  },
  {
   "cell_type": "markdown",
   "metadata": {},
   "source": [
    "The following plots **temp vs depth** for a fixed value t."
   ]
  },
  {
   "cell_type": "code",
   "execution_count": 22,
   "metadata": {},
   "outputs": [
    {
     "data": {
      "image/png": "[encoded data removed]",
      "text/plain": [
       "<matplotlib.figure.Figure at 0x7f275f5a6d68>"
      ]
     },
     "metadata": {},
     "output_type": "display_data"
    }
   ],
   "source": [
    "z = np.linspace(0, 10, 5)\n",
    "t = 1\n",
    "results = u(z, t)\n",
    "plt.plot(z, results)\n",
    "plt.xlabel('Depth')\n",
    "plt.ylabel('Temp')\n",
    "plt.show()"
   ]
  }
 ],
 "metadata": {
  "kernelspec": {
   "display_name": "Python 3",
   "language": "python",
   "name": "python3"
  },
  "language_info": {
   "codemirror_mode": {
    "name": "ipython",
    "version": 3
   },
   "file_extension": ".py",
   "mimetype": "text/x-python",
   "name": "python",
   "nbconvert_exporter": "python",
   "pygments_lexer": "ipython3",
   "version": "3.6.3"
  }
 },
 "nbformat": 4,
 "nbformat_minor": 2
}
