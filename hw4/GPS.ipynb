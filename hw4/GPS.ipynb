{
 "cells": [
  {
   "cell_type": "markdown",
   "metadata": {},
   "source": [
    "# Solving GPS problem with Least-Squares Approximation "
   ]
  },
  {
   "cell_type": "code",
   "execution_count": 21,
   "metadata": {},
   "outputs": [
    {
     "name": "stdout",
     "output_type": "stream",
     "text": [
      "[[  -4.  201. -232.]\n",
      " [  -4.  376.   -4.]]\n",
      "[ 100.49948852  187.99950587]\n",
      "Position inside unit box is: \n",
      "('X: -0.00527511207451', 'Y: 0.499943033564', 'Z: 4.38003353722e-05')\n"
     ]
    }
   ],
   "source": [
    "import numpy as np\n",
    "\n",
    "# Constants for sattelites and signal travel times\n",
    "\n",
    "t1 = 100.52487\n",
    "t2 = 87.505714\n",
    "t3 = 115.00000\n",
    "\n",
    "a1, b1, c1 = 2, -100, 1\n",
    "a2, b2, c2 = 0, 88, -1\n",
    "a3, b3, c3 = 0, 0.5, -115\n",
    "\n",
    "#linear system of equations of x, y, z\n",
    "\n",
    "system = np.array([\n",
    "    (2*(a3-a1), 2*(b3-b1), 2*(c3-c1)),\n",
    "    ((2*(a2-a1)), 2*(b2-b1), 2*(c2-c1))\n",
    "])\n",
    "\n",
    "#right hand side of linear system\n",
    "equals = np.array([\n",
    "    ((t1**2 - t3**2) - (a1**2 + b1**2 + c1**2) + (a3**2 + b3**2 + c3**2)),\n",
    "    ((t1**2 - t2**2) - (a1**2 + b1**2 + c1**2) + (a2**2 + b2**2 + c2**2))\n",
    "])\n",
    "\n",
    "#use NumPy library's least square approximation algorithm to solve the system of equations\n",
    "sol = np.linalg.lstsq(system, equals)\n",
    "\n",
    "x, y, z = sol[0]\n",
    "print(\"Position inside unit box is: \")\n",
    "print(\"X: \" + str(x), \"Y: \" + str(y),\"Z: \" + str(z))\n",
    "\n"
   ]
  }
 ],
 "metadata": {
  "kernelspec": {
   "display_name": "Python 3",
   "language": "python",
   "name": "python3"
  },
  "language_info": {
   "codemirror_mode": {
    "name": "ipython",
    "version": 3
   },
   "file_extension": ".py",
   "mimetype": "text/x-python",
   "name": "python",
   "nbconvert_exporter": "python",
   "pygments_lexer": "ipython3",
   "version": "3.6.3"
  }
 },
 "nbformat": 4,
 "nbformat_minor": 2
}
